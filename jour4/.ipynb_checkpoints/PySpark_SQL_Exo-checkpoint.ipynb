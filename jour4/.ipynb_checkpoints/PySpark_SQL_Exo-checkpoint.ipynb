{
 "cells": [
  {
   "cell_type": "code",
   "execution_count": 1,
   "metadata": {},
   "outputs": [],
   "source": [
    "from pyspark import *"
   ]
  },
  {
   "cell_type": "code",
   "execution_count": 2,
   "metadata": {},
   "outputs": [],
   "source": [
    "sc = SparkContext(master=\"local\", appName=\"test\")"
   ]
  },
  {
   "cell_type": "code",
   "execution_count": 3,
   "metadata": {},
   "outputs": [
    {
     "data": {
      "text/html": [
       "\n",
       "        <div>\n",
       "            <p><b>SparkContext</b></p>\n",
       "\n",
       "            <p><a href=\"http://be1632eeceb5:4040\">Spark UI</a></p>\n",
       "\n",
       "            <dl>\n",
       "              <dt>Version</dt>\n",
       "                <dd><code>v2.4.4</code></dd>\n",
       "              <dt>Master</dt>\n",
       "                <dd><code>local</code></dd>\n",
       "              <dt>AppName</dt>\n",
       "                <dd><code>test</code></dd>\n",
       "            </dl>\n",
       "        </div>\n",
       "        "
      ],
      "text/plain": [
       "<SparkContext master=local appName=test>"
      ]
     },
     "execution_count": 3,
     "metadata": {},
     "output_type": "execute_result"
    }
   ],
   "source": [
    "sc"
   ]
  },
  {
   "cell_type": "code",
   "execution_count": 4,
   "metadata": {},
   "outputs": [
    {
     "data": {
      "text/plain": [
       "./kddcup.data_10_percent.gz MapPartitionsRDD[1] at textFile at NativeMethodAccessorImpl.java:0"
      ]
     },
     "execution_count": 4,
     "metadata": {},
     "output_type": "execute_result"
    }
   ],
   "source": [
    "#download les data \n",
    "# --> http://kdd.ics.uci.edu/databases/kddcup99/kddcup99.html\n",
    "import urllib.request as ur\n",
    "f = ur.urlretrieve (\"http://kdd.ics.uci.edu/databases/kddcup99/kddcup.data_10_percent.gz\", \"kddcup.data_10_percent.gz\")\n",
    "data_file = \"./kddcup.data_10_percent.gz\"\n",
    "raw_data = sc.textFile(data_file)\n",
    "raw_data"
   ]
  },
  {
   "cell_type": "code",
   "execution_count": 5,
   "metadata": {},
   "outputs": [],
   "source": [
    "### initialiser un SQLContext\n",
    "from pyspark.sql import SQLContext\n",
    "from typing import List\n",
    "from pyspark.sql.types import *\n",
    "sqlContext = SQLContext(sc)\n",
    "#newData = raw_data.map(lambda key:(int(key[0]),key[1],key[2],key[3],int(key[4]),int(key[5]),key[-1])).toDF(\"duration\",\"protocol_type\", \"service\",\"flag\",\"src_bytes\",\"dst_bytes\",\"interaction\")\n",
    "#sorted_fields = sorted(raw_data, key=lambda key:(int(key[0]),key[1],key[2],key[3],int(key[4]),int(key[5]),key[-1]))\n",
    "#sorted_schema = StructType(fields=sorted_fields)\n",
    "from pyspark.sql.types import StructType\n",
    "from pyspark.sql.types import StructField\n",
    "from pyspark.sql.types import StringType\n",
    "\n",
    "schema = StructType([StructField(\"duration\",IntegerType(),True),StructField(\"protocol_type\",StringType(),True),StructField(\"service\",StringType(),True),StructField(\"flag\",StringType(),True),StructField(\"src_bytes\",IntegerType(),True),StructField(\"dst_bytes\",IntegerType(),True),StructField(\"interactions\",StringType(),True)])\n",
    "#df = sqlContext.createDataFrame( raw_data, schema )\n",
    "parts = raw_data.map(lambda l: l.split(\",\"))\n",
    "people = parts.map(lambda key:(int(key[0]),key[1],key[2],key[3],int(key[4]),int(key[5]),key[-1]))\n",
    "schemaPeople = sqlContext.createDataFrame(people,schema)\n",
    "schemaPeople.describe();\n",
    "\n",
    "#newData;"
   ]
  },
  {
   "cell_type": "code",
   "execution_count": 6,
   "metadata": {},
   "outputs": [],
   "source": [
    "#instencier un objet DataFrame à l'aide de votre schema \n",
    "schemaPeople.describe();"
   ]
  },
  {
   "cell_type": "code",
   "execution_count": 7,
   "metadata": {},
   "outputs": [
    {
     "data": {
      "text/plain": [
       "[Row(duration=0, protocol_type='tcp', service='http', flag='SF', src_bytes=181, dst_bytes=5450, interactions='normal.'),\n",
       " Row(duration=0, protocol_type='tcp', service='http', flag='SF', src_bytes=239, dst_bytes=486, interactions='normal.'),\n",
       " Row(duration=0, protocol_type='tcp', service='http', flag='SF', src_bytes=235, dst_bytes=1337, interactions='normal.'),\n",
       " Row(duration=0, protocol_type='tcp', service='http', flag='SF', src_bytes=219, dst_bytes=1337, interactions='normal.'),\n",
       " Row(duration=0, protocol_type='tcp', service='http', flag='SF', src_bytes=217, dst_bytes=2032, interactions='normal.'),\n",
       " Row(duration=0, protocol_type='tcp', service='http', flag='SF', src_bytes=217, dst_bytes=2032, interactions='normal.'),\n",
       " Row(duration=0, protocol_type='tcp', service='http', flag='SF', src_bytes=212, dst_bytes=1940, interactions='normal.'),\n",
       " Row(duration=0, protocol_type='tcp', service='http', flag='SF', src_bytes=159, dst_bytes=4087, interactions='normal.'),\n",
       " Row(duration=0, protocol_type='tcp', service='http', flag='SF', src_bytes=210, dst_bytes=151, interactions='normal.'),\n",
       " Row(duration=0, protocol_type='tcp', service='http', flag='SF', src_bytes=212, dst_bytes=786, interactions='normal.')]"
      ]
     },
     "execution_count": 7,
     "metadata": {},
     "output_type": "execute_result"
    }
   ],
   "source": [
    "#afficher les 10premieres lignes du DataFrame\n",
    "schemaPeople.head(10)\n"
   ]
  },
  {
   "cell_type": "code",
   "execution_count": 14,
   "metadata": {},
   "outputs": [
    {
     "name": "stdout",
     "output_type": "stream",
     "text": [
      "+--------+-------------+-------+----+---------+---------+------------+\n",
      "|duration|protocol_type|service|flag|src_bytes|dst_bytes|interactions|\n",
      "+--------+-------------+-------+----+---------+---------+------------+\n",
      "|       0|          tcp|   http|  SF|      181|     5450|     normal.|\n",
      "|       0|          tcp|   http|  SF|      239|      486|     normal.|\n",
      "|       0|          tcp|   http|  SF|      235|     1337|     normal.|\n",
      "|       0|          tcp|   http|  SF|      219|     1337|     normal.|\n",
      "|       0|          tcp|   http|  SF|      217|     2032|     normal.|\n",
      "|       0|          tcp|   http|  SF|      217|     2032|     normal.|\n",
      "|       0|          tcp|   http|  SF|      212|     1940|     normal.|\n",
      "|       0|          tcp|   http|  SF|      159|     4087|     normal.|\n",
      "|       0|          tcp|   http|  SF|      210|      151|     normal.|\n",
      "|       0|          tcp|   http|  SF|      212|      786|     normal.|\n",
      "+--------+-------------+-------+----+---------+---------+------------+\n",
      "only showing top 10 rows\n",
      "\n"
     ]
    }
   ],
   "source": [
    "schemaPeople.createOrReplaceTempView('interactions')\n",
    "#tempview est une vue de table virtuel pour simuler une bdd PS crash apres plus de 150 compil :(\n",
    "schemaPeople.show(10)"
   ]
  },
  {
   "cell_type": "code",
   "execution_count": 9,
   "metadata": {},
   "outputs": [
    {
     "data": {
      "text/plain": [
       "139"
      ]
     },
     "execution_count": 9,
     "metadata": {},
     "output_type": "execute_result"
    }
   ],
   "source": [
    "#selectionner les colonnes duration, dst_bytes ou le protocole est tcp et les duration > 1000 avec des dst_bytes nuls\n",
    "\n",
    "\n",
    "res = schemaPeople[(schemaPeople['duration'] > 1000) & (schemaPeople['protocol_type'] == 'tcp') & (schemaPeople['dst_bytes'] == 0)]\n",
    "res.count()\n",
    "\n"
   ]
  },
  {
   "cell_type": "code",
   "execution_count": 10,
   "metadata": {},
   "outputs": [
    {
     "data": {
      "text/plain": [
       "['Durée: 0, Dest. bytes: 5057',\n",
       " 'Durée: 0, Dest. bytes: 5059',\n",
       " 'Durée: 0, Dest. bytes: 5051',\n",
       " 'Durée: 0, Dest. bytes: 5056',\n",
       " 'Durée: 0, Dest. bytes: 5051',\n",
       " 'Durée: 0, Dest. bytes: 5039',\n",
       " 'Durée: 0, Dest. bytes: 5062',\n",
       " 'Durée: 0, Dest. bytes: 5041',\n",
       " 'Durée: 0, Dest. bytes: 5056',\n",
       " 'Durée: 0, Dest. bytes: 5064']"
      ]
     },
     "execution_count": 10,
     "metadata": {},
     "output_type": "execute_result"
    }
   ],
   "source": [
    "res.rdd.map(lambda x : \"Durée: {0}, Dest. bytes: {1}\".format(x.dst_bytes,x.duration)).take(10)\n"
   ]
  },
  {
   "cell_type": "markdown",
   "metadata": {},
   "source": [
    "**Dans la suite de l'exercice vous utiliserez la fonction time de la librairie time afin de mesurer le temps d'execution des requêtes**"
   ]
  },
  {
   "cell_type": "code",
   "execution_count": 11,
   "metadata": {},
   "outputs": [
    {
     "name": "stdout",
     "output_type": "stream",
     "text": [
      "+-------------+------+\n",
      "|protocol_type| count|\n",
      "+-------------+------+\n",
      "|          tcp|190065|\n",
      "|          udp| 20354|\n",
      "|         icmp|283602|\n",
      "+-------------+------+\n",
      "\n",
      "Execution : 24.244397401809692 s\n"
     ]
    }
   ],
   "source": [
    "import time\n",
    "proto = schemaPeople[['protocol_type']].groupby(['protocol_type']).count()\n",
    "start_time = time.time()\n",
    "proto.show()\n",
    "print(\"Execution : %s s\" % (time.time() - start_time))\n"
   ]
  },
  {
   "cell_type": "code",
   "execution_count": 16,
   "metadata": {},
   "outputs": [
    {
     "name": "stdout",
     "output_type": "stream",
     "text": [
      "+------+-------------+\n",
      "|    NB|protocol_type|\n",
      "+------+-------------+\n",
      "|190065|          tcp|\n",
      "| 20354|          udp|\n",
      "|283602|         icmp|\n",
      "+------+-------------+\n",
      "\n",
      "Execution : 802.3234729766846 s\n"
     ]
    }
   ],
   "source": [
    "#compter le nombre d'interaction par protocol \n",
    "proto2 = sqlContext.sql(\"SELECT count(protocol_type) as NB, protocol_type FROM interactions GROUP BY protocol_type\")\n",
    "proto2.show()\n",
    "print(\"Execution : %s s\" % (time.time() - start_time))"
   ]
  },
  {
   "cell_type": "code",
   "execution_count": 18,
   "metadata": {},
   "outputs": [
    {
     "name": "stdout",
     "output_type": "stream",
     "text": [
      "+-------------+-----+\n",
      "|protocol_type|count|\n",
      "+-------------+-----+\n",
      "|          tcp|  139|\n",
      "+-------------+-----+\n",
      "\n",
      "Execution : 18.38060235977173 s\n"
     ]
    }
   ],
   "source": [
    "\n",
    "start_time = time.time()\n",
    "proto = schemaPeople[(schemaPeople['duration'] > 1000) & (schemaPeople['dst_bytes'] ==0)].groupby(['protocol_type']).count()\n",
    "proto.show()\n",
    "print(\"Execution : %s s\" % (time.time() - start_time))"
   ]
  },
  {
   "cell_type": "code",
   "execution_count": null,
   "metadata": {},
   "outputs": [],
   "source": []
  },
  {
   "cell_type": "code",
   "execution_count": null,
   "metadata": {},
   "outputs": [],
   "source": [
    "#selectionner les colonnes duration, dst_bytes ou le protocole est tcp et les duration > 1000 avec des dst_bytes nuls\n",
    "# utiliser la methode filter\n"
   ]
  },
  {
   "cell_type": "code",
   "execution_count": 22,
   "metadata": {
    "scrolled": false
   },
   "outputs": [
    {
     "data": {
      "text/plain": [
       "['Tps: 0, T0: 5057',\n",
       " 'Tps: 0, T0: 5059',\n",
       " 'Tps: 0, T0: 5051',\n",
       " 'Tps: 0, T0: 5056',\n",
       " 'Tps: 0, T0: 5051',\n",
       " 'Tps: 0, T0: 5039',\n",
       " 'Tps: 0, T0: 5062',\n",
       " 'Tps: 0, T0: 5041',\n",
       " 'Tps: 0, T0: 5056',\n",
       " 'Tps: 0, T0: 5064',\n",
       " 'Tps: 0, T0: 5043',\n",
       " 'Tps: 0, T0: 5061',\n",
       " 'Tps: 0, T0: 5049',\n",
       " 'Tps: 0, T0: 5061',\n",
       " 'Tps: 0, T0: 5048',\n",
       " 'Tps: 0, T0: 5047',\n",
       " 'Tps: 0, T0: 5044',\n",
       " 'Tps: 0, T0: 5063',\n",
       " 'Tps: 0, T0: 5068',\n",
       " 'Tps: 0, T0: 5062',\n",
       " 'Tps: 0, T0: 5046',\n",
       " 'Tps: 0, T0: 5052',\n",
       " 'Tps: 0, T0: 5044',\n",
       " 'Tps: 0, T0: 5054',\n",
       " 'Tps: 0, T0: 5039',\n",
       " 'Tps: 0, T0: 5058',\n",
       " 'Tps: 0, T0: 5051',\n",
       " 'Tps: 0, T0: 5032',\n",
       " 'Tps: 0, T0: 5063',\n",
       " 'Tps: 0, T0: 5040',\n",
       " 'Tps: 0, T0: 5051',\n",
       " 'Tps: 0, T0: 5066',\n",
       " 'Tps: 0, T0: 5044',\n",
       " 'Tps: 0, T0: 5051',\n",
       " 'Tps: 0, T0: 5036',\n",
       " 'Tps: 0, T0: 5055',\n",
       " 'Tps: 0, T0: 2426',\n",
       " 'Tps: 0, T0: 5047',\n",
       " 'Tps: 0, T0: 5057',\n",
       " 'Tps: 0, T0: 5037',\n",
       " 'Tps: 0, T0: 5057',\n",
       " 'Tps: 0, T0: 5062']"
      ]
     },
     "execution_count": 22,
     "metadata": {},
     "output_type": "execute_result"
    }
   ],
   "source": [
    "#afficher votre resultats\n",
    "proto = schemaPeople[(schemaPeople['duration'] > 1000) & (schemaPeople['dst_bytes'] ==0)]\n",
    "proto.rdd.map(lambda x : \"Tps: {1}, T0: {0}\".format(x.duration, x.dst_bytes)).take(42)"
   ]
  },
  {
   "cell_type": "markdown",
   "metadata": {},
   "source": [
    "utiliser la fonction `udf` afin de 'wrapper' la fonction ci-dessous et de 'labeliser' le dataset. \n",
    "```python \n",
    "from pyspark.sql.functions import udf\n",
    "\n",
    "\n",
    "def attack_or_normal_func(s):\n",
    "    return \"normal\" if s == \"normal.\" else \"attack\"\n",
    "\n",
    "```"
   ]
  },
  {
   "cell_type": "code",
   "execution_count": 23,
   "metadata": {},
   "outputs": [
    {
     "name": "stdout",
     "output_type": "stream",
     "text": [
      "root\n",
      " |-- duration: integer (nullable = true)\n",
      " |-- protocol_type: string (nullable = true)\n",
      " |-- service: string (nullable = true)\n",
      " |-- flag: string (nullable = true)\n",
      " |-- src_bytes: integer (nullable = true)\n",
      " |-- dst_bytes: integer (nullable = true)\n",
      " |-- interactions: string (nullable = true)\n",
      " |-- label: string (nullable = true)\n",
      "\n"
     ]
    }
   ],
   "source": [
    "#à l'aide de la fonction udf ajouter une colonne label au DataFrame \n",
    "from pyspark.sql.functions import udf\n",
    "\n",
    "\n",
    "def attack_or_normal_func(s):\n",
    "    return \"normal\" if s == \"normal.\" else \"attack\"\n",
    "new = udf(attack_or_normal_func, StringType())\n",
    "schemaPeople = schemaPeople.withColumn('label',new(schemaPeople['interactions']))\n",
    "schemaPeople.printSchema()"
   ]
  },
  {
   "cell_type": "code",
   "execution_count": 25,
   "metadata": {},
   "outputs": [
    {
     "name": "stdout",
     "output_type": "stream",
     "text": [
      "+------+------+\n",
      "| label| count|\n",
      "+------+------+\n",
      "|normal| 97278|\n",
      "|attack|396743|\n",
      "+------+------+\n",
      "\n",
      "Execution : 22.247750997543335 s\n"
     ]
    }
   ],
   "source": [
    "start_time = time.time()\n",
    "schemaPeople.select('label').groupby('label').count().show()\n",
    "print(\"Execution : %s s\" % (time.time() - start_time))"
   ]
  },
  {
   "cell_type": "code",
   "execution_count": 27,
   "metadata": {},
   "outputs": [
    {
     "name": "stdout",
     "output_type": "stream",
     "text": [
      "+------+------+\n",
      "| label| count|\n",
      "+------+------+\n",
      "|normal| 97278|\n",
      "|attack|396743|\n",
      "+------+------+\n",
      "\n",
      "Execution : 21.571000337600708 s\n"
     ]
    }
   ],
   "source": [
    "\n",
    "\n",
    "start_time = time.time()\n",
    "\n",
    "\n",
    "schemaPeople.groupby(\"label\").count().show()\n",
    "\n",
    "\n",
    "print(\"Execution : %s s\" % (time.time() - start_time))\n",
    "\n"
   ]
  },
  {
   "cell_type": "code",
   "execution_count": 29,
   "metadata": {},
   "outputs": [
    {
     "name": "stdout",
     "output_type": "stream",
     "text": [
      "+------+-------------+------+\n",
      "| label|protocol_type| count|\n",
      "+------+-------------+------+\n",
      "|normal|          udp| 19177|\n",
      "|normal|         icmp|  1288|\n",
      "|normal|          tcp| 76813|\n",
      "|attack|         icmp|282314|\n",
      "|attack|          tcp|113252|\n",
      "|attack|          udp|  1177|\n",
      "+------+-------------+------+\n",
      "\n",
      "Execution : 20.942603826522827 s\n"
     ]
    }
   ],
   "source": [
    "start_time = time.time()\n",
    "schemaPeople.select('label', 'protocol_type').groupby('label', 'protocol_type').count().show()\n",
    "print(\"Execution : %s s\" % (time.time() - start_time))"
   ]
  },
  {
   "cell_type": "code",
   "execution_count": null,
   "metadata": {},
   "outputs": [],
   "source": []
  }
 ],
 "metadata": {
  "kernelspec": {
   "display_name": "Python 3",
   "language": "python",
   "name": "python3"
  },
  "language_info": {
   "codemirror_mode": {
    "name": "ipython",
    "version": 3
   },
   "file_extension": ".py",
   "mimetype": "text/x-python",
   "name": "python",
   "nbconvert_exporter": "python",
   "pygments_lexer": "ipython3",
   "version": "3.7.3"
  }
 },
 "nbformat": 4,
 "nbformat_minor": 2
}
